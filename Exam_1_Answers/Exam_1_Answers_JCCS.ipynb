{
 "cells": [
  {
   "cell_type": "markdown",
   "metadata": {},
   "source": [
    "## Problem 2"
   ]
  },
  {
   "cell_type": "code",
   "execution_count": 7,
   "metadata": {},
   "outputs": [
    {
     "name": "stdout",
     "output_type": "stream",
     "text": [
      "total 2.4M\n",
      "1.2M -rw-rw-r-- 1 osboxes osboxes 1.2M Sep  5 21:12  conv.txt\n",
      "4.0K -rw-rw-r-- 1 osboxes osboxes  147 Sep  5 21:12  DISCLAIMER\n",
      "4.0K drwxrwxr-x 3 osboxes osboxes 4.0K Sep  6 02:48  \u001b[0m\u001b[01;34mExam_1_Answers\u001b[0m\n",
      "8.0K -rw-rw-r-- 1 osboxes osboxes 5.5K Sep  6 02:47 'Exam Week 1.ipynb'\n",
      "4.0K -rw-rw-r-- 1 osboxes osboxes 3.9K Sep  5 21:12 'Exam Week 2.ipynb'\n",
      "8.0K -rw-rw-r-- 1 osboxes osboxes 4.2K Sep  5 21:12  Germplasm.tsv\n",
      "4.0K -rw-rw-r-- 1 osboxes osboxes  141 Sep  5 21:12  how_to_convert.txt\n",
      "4.0K -rw-rw-r-- 1 osboxes osboxes 1.1K Sep  5 21:12  LICENSE\n",
      "4.0K -rw-rw-r-- 1 osboxes osboxes  637 Sep  5 21:12  LocusGene.tsv\n",
      "1.2M -rw-rw-r-- 1 osboxes osboxes 1.2M Sep  5 21:12  Locus_Germplasm_Phenotype_20130122.txt\n",
      "4.0K -rw-rw-r-- 1 osboxes osboxes  743 Sep  5 21:12  README.md\n"
     ]
    }
   ],
   "source": [
    "ls -lsh"
   ]
  },
  {
   "cell_type": "markdown",
   "metadata": {},
   "source": [
    "The command ls lists everything inside the directory. -l flag shows them in a list (so we are able to see ownership), -s shows the size, and -h shows the results in a way is easy to read for humans.\n",
    "\n",
    "About the ownership, we can see there is only one dierctory, which is the one starting by \"d\", and there are 10 files, startig by \"-\". Then,we can see every element from this directory is readable and writeble by the user (first r and first w), and only the directory is executable by the owner (first x in the directory), that can be noted by the absence of x in the 4th column, and the \"-\" we can find instead.\n",
    "\n",
    "The second r, w and x refer to the group, and the third ones refer to everyone."
   ]
  },
  {
   "cell_type": "markdown",
   "metadata": {},
   "source": [
    "## Problem 3"
   ]
  },
  {
   "cell_type": "code",
   "execution_count": 9,
   "metadata": {},
   "outputs": [
    {
     "name": "stdout",
     "output_type": "stream",
     "text": [
      "Locus_name)\tGermplasm_name\tphenotype\tpubmed_id\n"
     ]
    }
   ],
   "source": [
    "cd ..\n",
    "head -1 Locus_Germplasm_Phenotype_20130122.txt"
   ]
  },
  {
   "cell_type": "markdown",
   "metadata": {},
   "source": [
    "As the header line is the first line of the document, we can use the command head, and specify to only include the first line of the file we are interested in."
   ]
  },
  {
   "cell_type": "markdown",
   "metadata": {},
   "source": [
    "## Problem 4"
   ]
  },
  {
   "cell_type": "code",
   "execution_count": 11,
   "metadata": {},
   "outputs": [
    {
     "name": "stdout",
     "output_type": "stream",
     "text": [
      "7216 Locus_Germplasm_Phenotype_20130122.txt\n"
     ]
    }
   ],
   "source": [
    "wc -l Locus_Germplasm_Phenotype_20130122.txt"
   ]
  },
  {
   "cell_type": "markdown",
   "metadata": {},
   "source": [
    "For this task, we can use the command wc (word count), and to specify to count the lines and not the words with the -l flag."
   ]
  },
  {
   "cell_type": "markdown",
   "metadata": {},
   "source": [
    "## Problem 5"
   ]
  },
  {
   "cell_type": "code",
   "execution_count": 14,
   "metadata": {},
   "outputs": [
    {
     "name": "stdout",
     "output_type": "stream",
     "text": [
      "7215 Data_only.csv\n"
     ]
    }
   ],
   "source": [
    "tail -7215 Locus_Germplasm_Phenotype_20130122.txt > Data_only.csv\n",
    "wc -l Data_only.csv"
   ]
  },
  {
   "cell_type": "markdown",
   "metadata": {},
   "source": [
    "As we know from the last Problem that our file has 7216 lines, we can take the last 7215 and direct the output to the new file. Then we use wc again to check that it has the expected number of lines"
   ]
  },
  {
   "cell_type": "markdown",
   "metadata": {},
   "source": [
    "## Problem 6"
   ]
  },
  {
   "cell_type": "code",
   "execution_count": null,
   "metadata": {},
   "outputs": [],
   "source": [
    "grep -nai \"\\Wroot\\W\" Locus_Germplasm_Phenotype_20130122.txt"
   ]
  },
  {
   "cell_type": "markdown",
   "metadata": {},
   "source": [
    "We use the command grep in order to find all places where the word root is. Then, we use the flags -a because we dont know the source, and the txt file could be comming from windows, so it is better to work in binary; and -n, because we want the lines; and -i, because it could be the first word of a sentence. Also, we use the word root surrounded by something that is not a word character, as it could be preceded or followed by a \".\" or a \"-\"."
   ]
  },
  {
   "cell_type": "markdown",
   "metadata": {},
   "source": [
    "## Problem 7"
   ]
  },
  {
   "cell_type": "code",
   "execution_count": 107,
   "metadata": {},
   "outputs": [],
   "source": [
    "grep -ai \"\\Wroot\\W\" Locus_Germplasm_Phenotype_20130122.txt | grep -E -oia '^at[1-5]g[0-9]+\\s' > Root-associated-Loci.txt"
   ]
  },
  {
   "cell_type": "markdown",
   "metadata": {},
   "source": [
    "We take the same command we use for Problem 6, but not including the n, as we will need the line to start by the AGI locus code and not by the name of the line. Then, we use the pipe to send the output of the first grep to another grep, which is going to pick only the locus code (starting by \"a\", then \"t\", then a number from 1 to 5, a \"g\", and then 5 numbers from 0 to 9 and a tab) and redirect it to the file specified in the Problem 7.\n",
    "\n",
    "When doing this Problem, I assumed we are only looking for the Locus code that match the AGI, and not looking at the ones on the bottom, that doesn't match this format."
   ]
  },
  {
   "cell_type": "markdown",
   "metadata": {},
   "source": [
    "## Problem 8"
   ]
  },
  {
   "cell_type": "code",
   "execution_count": null,
   "metadata": {},
   "outputs": [],
   "source": [
    "grep -ai \"\\Wroot\\W\" Locus_Germplasm_Phenotype_20130122.txt | grep -E -oia '\\s[0-9]+$' > Root-associated-Publications.txt"
   ]
  },
  {
   "cell_type": "markdown",
   "metadata": {},
   "source": [
    "We use the same strategy we used before, but in the second grep we find the last characters of a line that contains only numbers and are preceded by a space (a tab in this case)."
   ]
  },
  {
   "cell_type": "markdown",
   "metadata": {},
   "source": [
    "## Problem 9"
   ]
  },
  {
   "cell_type": "code",
   "execution_count": 110,
   "metadata": {},
   "outputs": [
    {
     "name": "stdout",
     "output_type": "stream",
     "text": [
      "AT1\n",
      "AT2\n",
      "AT3\n",
      "AT4\n",
      "AT5\n"
     ]
    }
   ],
   "source": [
    "grep -E -aio \"^at[1]\" Root-associated-Loci.txt | head -1\n",
    "grep -E -aio \"^at[2]\" Root-associated-Loci.txt | head -1\n",
    "grep -E -aio \"^at[3]\" Root-associated-Loci.txt | head -1\n",
    "grep -E -aio \"^at[4]\" Root-associated-Loci.txt | head -1\n",
    "grep -E -aio \"^at[5]\" Root-associated-Loci.txt | head -1 "
   ]
  },
  {
   "cell_type": "markdown",
   "metadata": {},
   "source": [
    "We will grep only the ones for the first chromosome, and only the part that specify which chromosome, then for the second chromosome, and so on. Then, we will display them using head -1, so we can clearly see 1 the first result for each chromosome, and only the first part, in order to not overwhelm the the screen."
   ]
  },
  {
   "cell_type": "markdown",
   "metadata": {},
   "source": [
    "## Problem 10"
   ]
  },
  {
   "cell_type": "markdown",
   "metadata": {},
   "source": [
    "Seems I did correctly last exercise, so I am skipping this part (wohoo!)."
   ]
  }
 ],
 "metadata": {
  "kernelspec": {
   "display_name": "Bash",
   "language": "bash",
   "name": "bash"
  },
  "language_info": {
   "codemirror_mode": "shell",
   "file_extension": ".sh",
   "mimetype": "text/x-sh",
   "name": "bash"
  }
 },
 "nbformat": 4,
 "nbformat_minor": 2
}
